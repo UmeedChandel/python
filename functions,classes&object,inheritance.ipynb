{
 "cells": [
  {
   "cell_type": "markdown",
   "metadata": {},
   "source": [
    "### count special char occurence"
   ]
  },
  {
   "cell_type": "code",
   "execution_count": 1,
   "metadata": {},
   "outputs": [
    {
     "name": "stdout",
     "output_type": "stream",
     "text": [
      "enter string:gdh?.gdfgnb!!\n",
      "Special char occured  4\n"
     ]
    }
   ],
   "source": [
    "punctuation=\".?,&!->^\"\n",
    "my_str=str(input(\"enter string:\"))\n",
    "def count(my_str):\n",
    "    c=0\n",
    "    for char1 in my_str:\n",
    "        if char1 in punctuation:\n",
    "            c=c+1\n",
    "    print(\"Special char occured \",end=\" \")\n",
    "    print(c)\n",
    "count(my_str)"
   ]
  },
  {
   "cell_type": "markdown",
   "metadata": {},
   "source": [
    "### count char occurence"
   ]
  },
  {
   "cell_type": "code",
   "execution_count": 2,
   "metadata": {},
   "outputs": [
    {
     "name": "stdout",
     "output_type": "stream",
     "text": [
      "enter string:dfbsfgjyjhfgggggggggggg\n",
      "Char to be found:g\n",
      "char occured 13\n"
     ]
    }
   ],
   "source": [
    "my_str=str(input(\"enter string:\"))\n",
    "x=len(my_str)\n",
    "a=\"abcdefghijklmnopqrstuvwxyz\"\n",
    "char=str(input(\"Char to be found:\"))\n",
    "def count(char):\n",
    "    my_str.casefold()\n",
    "    c=0\n",
    "    for i in range(x):\n",
    "        if (char==my_str[i]):\n",
    "            c=c+1\n",
    "    print(\"char occured\",end=\" \")\n",
    "    print(c)\n",
    "count(char)"
   ]
  },
  {
   "cell_type": "markdown",
   "metadata": {},
   "source": [
    "### max from 2 num using function"
   ]
  },
  {
   "cell_type": "code",
   "execution_count": 3,
   "metadata": {},
   "outputs": [
    {
     "name": "stdout",
     "output_type": "stream",
     "text": [
      "max value is: \n",
      "37\n"
     ]
    }
   ],
   "source": [
    "def max(a,b):\n",
    "    if(a>b):\n",
    "        return(a)\n",
    "    else:\n",
    "        return(b)\n",
    "print(\"max value is: \")\n",
    "print(max(22,37))"
   ]
  },
  {
   "cell_type": "markdown",
   "metadata": {},
   "source": [
    "### square of num using lambda"
   ]
  },
  {
   "cell_type": "code",
   "execution_count": 4,
   "metadata": {},
   "outputs": [
    {
     "name": "stdout",
     "output_type": "stream",
     "text": [
      "144\n"
     ]
    }
   ],
   "source": [
    "a=lambda x:x**2\n",
    "print(a(12))"
   ]
  },
  {
   "cell_type": "markdown",
   "metadata": {},
   "source": [
    "### class"
   ]
  },
  {
   "cell_type": "code",
   "execution_count": 5,
   "metadata": {},
   "outputs": [
    {
     "name": "stdout",
     "output_type": "stream",
     "text": [
      "Inside Class's Function\n"
     ]
    }
   ],
   "source": [
    "\n",
    "class a:\n",
    "    def a1():\n",
    "        print(\"Inside Class's Function\")\n",
    "a.a1() #function call without obj"
   ]
  },
  {
   "cell_type": "markdown",
   "metadata": {},
   "source": [
    "### class&obj"
   ]
  },
  {
   "cell_type": "code",
   "execution_count": 6,
   "metadata": {},
   "outputs": [
    {
     "name": "stdout",
     "output_type": "stream",
     "text": [
      "2\n"
     ]
    }
   ],
   "source": [
    "\n",
    "class A:\n",
    "    x=2\n",
    "    def disp(self):\n",
    "        print(self.x)\n",
    "a1=A() #instance \n",
    "a1.disp() #call funct through instance"
   ]
  },
  {
   "cell_type": "markdown",
   "metadata": {},
   "source": [
    "### class constructor and member function"
   ]
  },
  {
   "cell_type": "code",
   "execution_count": 7,
   "metadata": {},
   "outputs": [
    {
     "name": "stdout",
     "output_type": "stream",
     "text": [
      "27\n"
     ]
    }
   ],
   "source": [
    "class add:\n",
    "    def __init__(self,a,b):\n",
    "        self.x=a\n",
    "        self.y=b\n",
    "    def disp(self):\n",
    "        print(self.x+self.y)\n",
    "\n",
    "a=add(23,4)\n",
    "a.disp()"
   ]
  },
  {
   "cell_type": "markdown",
   "metadata": {},
   "source": [
    "### class emp with data members id,name,salary!enter detail and display."
   ]
  },
  {
   "cell_type": "code",
   "execution_count": 8,
   "metadata": {},
   "outputs": [
    {
     "name": "stdout",
     "output_type": "stream",
     "text": [
      "enterd id: 5\n",
      "enter name: mose\n",
      "enter salary: 23000\n",
      "Id:  5\n",
      "name:  mose\n",
      "salary:  23000.0\n",
      "enterd id: 9\n",
      "enter name: rooti\n",
      "enter salary: 457777\n",
      "Id:  9\n",
      "name:  rooti\n",
      "salary:  457777.0\n"
     ]
    }
   ],
   "source": [
    "class emp:\n",
    "    def detail(self):\n",
    "        self.id=int(input(\"enterd id: \"))\n",
    "        self.name=str(input(\"enter name: \"))\n",
    "        self.salary=float(input(\"enter salary: \"))\n",
    "    def display(self):\n",
    "        print(\"Id: \",end=\" \")\n",
    "        print(self.id)\n",
    "        print(\"name: \",end=\" \")\n",
    "        print(self.name)\n",
    "        print(\"salary: \",end=\" \")\n",
    "        print(self.salary)\n",
    "o1=emp()\n",
    "o2=emp()\n",
    "o1.detail()\n",
    "o1.display()\n",
    "o2.detail()\n",
    "o2.display()"
   ]
  },
  {
   "cell_type": "markdown",
   "metadata": {},
   "source": [
    "### student info,subject marks avg calculate"
   ]
  },
  {
   "cell_type": "code",
   "execution_count": 9,
   "metadata": {},
   "outputs": [
    {
     "name": "stdout",
     "output_type": "stream",
     "text": [
      "enter Roll:12\n",
      "enter Name:kalsa\n",
      "enter Year:2011\n",
      "Sub name:math\n",
      "Marks:23\n",
      "Sub name:art\n",
      "Marks:23\n",
      "Sub name:pe\n",
      "Marks:44\n",
      "\n",
      "Roll: 12\n",
      "Name: kalsa\n",
      "Year: 2011\n",
      "Average Marks: 30.0\n"
     ]
    }
   ],
   "source": [
    "class student:\n",
    "    def info(self):\n",
    "        self.roll=int(input(\"enter Roll:\"))\n",
    "        self.name=str(input(\"enter Name:\"))\n",
    "        self.year=int(input(\"enter Year:\"))\n",
    "    def info1(self):\n",
    "        self.sub1=str(input(\"Sub name:\"))\n",
    "        self.marks1=float(input(\"Marks:\"))\n",
    "        self.sub2=str(input(\"Sub name:\"))\n",
    "        self.marks2=float(input(\"Marks:\"))\n",
    "        self.sub3=str(input(\"Sub name:\"))\n",
    "        self.marks3=float(input(\"Marks:\"))\n",
    "    def calculate(self):\n",
    "        self.avg=(self.marks1+self.marks2+self.marks3)/3\n",
    "    def display(self):\n",
    "        print()\n",
    "        print(\"Roll:\",end=\" \")\n",
    "        print(self.roll)\n",
    "        print(\"Name:\",end=\" \")\n",
    "        print(self.name)\n",
    "        print(\"Year:\",end=\" \")\n",
    "        print(self.year)\n",
    "        print(\"Average Marks:\",end=\" \")\n",
    "        print(self.avg)\n",
    "o=student()\n",
    "o.info()\n",
    "o.info1()\n",
    "o.calculate()\n",
    "o.display()"
   ]
  },
  {
   "cell_type": "markdown",
   "metadata": {},
   "source": [
    "### single inheritance "
   ]
  },
  {
   "cell_type": "code",
   "execution_count": 10,
   "metadata": {},
   "outputs": [
    {
     "name": "stdout",
     "output_type": "stream",
     "text": [
      "enter number a:34234\n",
      "enter number b:234234234\n",
      "Sum is: 234268468.0\n"
     ]
    }
   ],
   "source": [
    "class add:\n",
    "    def enter(self):   #base class\n",
    "        self.a=float(input(\"enter number a:\"))\n",
    "        self.b=float(input(\"enter number b:\"))\n",
    "class disp(add):      #derived class\n",
    "    def show(self):\n",
    "        self.c=self.a+self.b\n",
    "        print(\"Sum is:\",self.c)\n",
    "o=disp()\n",
    "o.enter()\n",
    "o.show()"
   ]
  },
  {
   "cell_type": "markdown",
   "metadata": {},
   "source": [
    "### hybrid inheritance\n",
    "#### multilevel and multiple"
   ]
  },
  {
   "cell_type": "code",
   "execution_count": 11,
   "metadata": {},
   "outputs": [
    {
     "name": "stdout",
     "output_type": "stream",
     "text": [
      "Enter Roll no.:020220\n",
      "Enter Name:umeeed\n",
      "Enter sub1 marks:34\n",
      "Enter sub2 marks:65\n",
      "Enter sports marks:12\n",
      "Roll np.: 020220\n",
      "Name: umeeed\n",
      "Average Marks: 37.0\n"
     ]
    }
   ],
   "source": [
    "class std: \n",
    "    def info1(self):\n",
    "        self.roll=str(input(\"Enter Roll no.:\"))\n",
    "        self.name=str(input(\"Enter Name:\"))\n",
    "class marks(std):\n",
    "    def info2(self):\n",
    "        self.m1=float(input(\"Enter sub1 marks:\"))\n",
    "        self.m2=float(input(\"Enter sub2 marks:\"))\n",
    "class sports:\n",
    "    def info3(self):\n",
    "        self.m3=float(input(\"Enter sports marks:\"))\n",
    "class result(marks,sports):\n",
    "    def disp(self):\n",
    "        print(\"Roll np.:\",self.roll)\n",
    "        print(\"Name:\",self.name)\n",
    "        self.avg=(self.m1+self.m2+self.m3)/3\n",
    "        print(\"Average Marks:\",self.avg)\n",
    "o=result()\n",
    "o.info1()\n",
    "o.info2()\n",
    "o.info3()\n",
    "o.disp()"
   ]
  }
 ],
 "metadata": {
  "kernelspec": {
   "display_name": "Python 3",
   "language": "python",
   "name": "python3"
  },
  "language_info": {
   "codemirror_mode": {
    "name": "ipython",
    "version": 3
   },
   "file_extension": ".py",
   "mimetype": "text/x-python",
   "name": "python",
   "nbconvert_exporter": "python",
   "pygments_lexer": "ipython3",
   "version": "3.7.3"
  }
 },
 "nbformat": 4,
 "nbformat_minor": 2
}
