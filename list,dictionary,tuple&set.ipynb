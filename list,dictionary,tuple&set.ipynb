{
 "cells": [
  {
   "cell_type": "markdown",
   "metadata": {},
   "source": [
    "### list operations"
   ]
  },
  {
   "cell_type": "code",
   "execution_count": 2,
   "metadata": {},
   "outputs": [
    {
     "name": "stdout",
     "output_type": "stream",
     "text": [
      "[3, 4]\n",
      "['b', 'c']\n",
      "[1, 2, 'three', 4, 7, 5, 8]\n",
      "['a', 'b', 'c', 'd', 'e']\n",
      "[1, 2, 'three', 7, 5, 8]\n",
      "a\n",
      "[1, 2, 7, 5, 8]\n",
      "['a', 'A', 'b', 'c', 'd', 'e']\n",
      "[1, 2, 7, 5, 8, 'x', 'y', 'z']\n",
      "[1, 7, 5, 8, 'x', 'y', 'z']\n",
      "['z', 'y', 'x', 8, 5, 7, 1]\n",
      "[23, 23, 42, 54, 88, 88]\n",
      "[23, 42, 54, 88, 88]\n",
      "[23, 'three', 4, 54, 88, 88]\n"
     ]
    }
   ],
   "source": [
    "l1=[1,2,3,4,7,5,8]\n",
    "l2=['a','b','c','d']\n",
    "print(l1[2:-3]) #sclicing\n",
    "print(l2[1:3])\n",
    "l1[2]='three'  #update\n",
    "print(l1)\n",
    "l2.append('e') #append\n",
    "print(l2)\n",
    "del l1[3] #delete\n",
    "print(l1)\n",
    "print(min(l2)) #min\n",
    "m1=['x','y','z']\n",
    "len(l2) #length\n",
    "list(l1) #sequence\n",
    "l1.pop(2) #pop\n",
    "print(l1)\n",
    "l2.insert(1,'A') #push\n",
    "print(l2)\n",
    "l1.extend(m1) #add two list\n",
    "print(l1)\n",
    "l1.remove(2) #remove element from list\n",
    "print(l1)\n",
    "l1.reverse() #invert the list\n",
    "print(l1)\n",
    "m2=[23,23,42,88,54,88]\n",
    "m2.sort() #sort\n",
    "print(m2)\n",
    "del m2[1:2] #delete\n",
    "print(m2)\n",
    "m2[1:2]='three',4  #update\n",
    "print(m2)"
   ]
  },
  {
   "cell_type": "markdown",
   "metadata": {},
   "source": [
    "### set operation"
   ]
  },
  {
   "cell_type": "code",
   "execution_count": 4,
   "metadata": {},
   "outputs": [
    {
     "name": "stdout",
     "output_type": "stream",
     "text": [
      "Elements in Set 'people': Pragya Shreya Priyansh Tulika \n",
      "Elements in Set 'people' after update: Shivam Shreya Priyansh Pragya Tulika \n",
      "Elements in Set 'live': Jabalpur Shivam Shreya Priyansh Pragya Pune Bhopal Tulika "
     ]
    }
   ],
   "source": [
    "people={\"Tulika\",\"Priyansh\",\"Shreya\",\"Pragya\"}\n",
    "print(\"Elements in Set 'people':\",end=\" \")\n",
    "for i in people:    #print set using loop\n",
    "    print(i,end=\" \")\n",
    "print()\n",
    "people.add(\"Shivam\") #adding element to set\n",
    "print(\"Elements in Set 'people' after update:\",end=\" \")\n",
    "for i in people:\n",
    "    print(i,end=\" \")\n",
    "print()\n",
    "cities={'Jabalpur','Bhopal','Pune'}\n",
    "live=people.union(cities)   #union of two set\n",
    "print(\"Elements in Set 'live':\",end=\" \")\n",
    "for i in live:\n",
    "    print(i,end=\" \")\n",
    "cities.clear()\n"
   ]
  },
  {
   "cell_type": "markdown",
   "metadata": {},
   "source": [
    "### tuple operations"
   ]
  },
  {
   "cell_type": "code",
   "execution_count": 6,
   "metadata": {},
   "outputs": [
    {
     "name": "stdout",
     "output_type": "stream",
     "text": [
      "<class 'tuple'>\n",
      "('hy', '!', 'whatsup', ',lets code', 'ya', 2019)\n",
      "(('hy', '!', 'whatsup', ',lets code'), ('Dec', 12, '/', 2019))\n",
      "('Tuples ', 'Tuples ', 'Tuples ')\n",
      "('Dec',)\n",
      "(('Dec', 12, '/', 2019), ('hy', '!', 'whatsup', ',lets code'))\n",
      "('whatsup', ',lets code')\n",
      "2\n"
     ]
    }
   ],
   "source": [
    "t1=('hy','!','whatsup',\",lets code\") \n",
    "print(type(t1))\n",
    "t2=\"ya\",2019    #default is tuple\n",
    "t3=('Dec',12,'/',2019)\n",
    "t=t1+t2  #Concatenation of Tuples\n",
    "print(t)\n",
    "t4=(t1,t3) #nested tuple\n",
    "print(t4) \n",
    "t5 = ('Tuples ',)*3 #repetition\n",
    "print(t5)\n",
    "print(t3[:1]) #slicing\n",
    "print(t4[::-1]) \n",
    "print(t1[2:4])\n",
    "print(len(t4)) #length"
   ]
  },
  {
   "cell_type": "markdown",
   "metadata": {},
   "source": [
    "### nested dictionary"
   ]
  },
  {
   "cell_type": "code",
   "execution_count": 7,
   "metadata": {},
   "outputs": [
    {
     "name": "stdout",
     "output_type": "stream",
     "text": [
      "{'x': {'x1': 1, 'x2': 2}, 'y': {'y1': 11, 'y2': 12}, 'z': {'z1': 21, 'z2': 22}}\n"
     ]
    }
   ],
   "source": [
    "a={\n",
    "    \"x\":{\n",
    "        \"x1\":1,\n",
    "        \"x2\":2\n",
    "    },\n",
    "    \"y\":{\n",
    "        \"y1\":11,\n",
    "        \"y2\":12\n",
    "    },\n",
    "    \"z\":{\n",
    "        \"z1\":21,\n",
    "        \"z2\":22\n",
    "    }\n",
    "}\n",
    "print(a)\n"
   ]
  },
  {
   "cell_type": "markdown",
   "metadata": {},
   "source": [
    "### dictionary operations"
   ]
  },
  {
   "cell_type": "code",
   "execution_count": 8,
   "metadata": {},
   "outputs": [
    {
     "name": "stdout",
     "output_type": "stream",
     "text": [
      "<class 'dict'>\n",
      "Umeed\n"
     ]
    }
   ],
   "source": [
    "d1={\n",
    "    \"name\":\"Umeed\",\n",
    "    \"branch\":\"CSE\",\n",
    "    \"year\":2\n",
    "   }\n",
    "\n",
    "d2={\n",
    "    \"sem\":3,\n",
    "    \"sub1\":\"M3\",\n",
    "    \"sub2\":\"algo\",\n",
    "    \"sub3\":\"OS\"\n",
    "}\n",
    "\n",
    "print(type(d1))\n",
    "x=d1[\"name\"]  #accessing\n",
    "print(x)"
   ]
  },
  {
   "cell_type": "code",
   "execution_count": 9,
   "metadata": {},
   "outputs": [
    {
     "name": "stdout",
     "output_type": "stream",
     "text": [
      "{'sem': 'semester', 'sub1': 'M3', 'sub2': 'algo', 'sub3': 'OS'}\n"
     ]
    }
   ],
   "source": [
    "d2[\"sem\"]=\"semester\"  #changing\n",
    "print(d2)"
   ]
  },
  {
   "cell_type": "code",
   "execution_count": 10,
   "metadata": {},
   "outputs": [
    {
     "name": "stdout",
     "output_type": "stream",
     "text": [
      "name\n",
      "branch\n",
      "year\n",
      "\n",
      "Umeed\n",
      "CSE\n",
      "2\n",
      "\n",
      "name\n",
      "branch\n",
      "year\n",
      "\n",
      "name Umeed\n",
      "branch CSE\n",
      "year 2\n",
      "\n"
     ]
    }
   ],
   "source": [
    "for i in d1:  #loop only key\n",
    "    print(i)\n",
    "print()\n",
    "for i in d1.values(): #loop only value\n",
    "    print(i)\n",
    "print()\n",
    "for i in d1.keys(): #loop only keys\n",
    "    print(i)\n",
    "print()\n",
    "for i,j in d1.items(): #both\n",
    "    print(i,j)\n",
    "print()"
   ]
  },
  {
   "cell_type": "code",
   "execution_count": 11,
   "metadata": {},
   "outputs": [
    {
     "name": "stdout",
     "output_type": "stream",
     "text": [
      "{'sem': 'semester', 'sub1': 'M3', 'sub2': 'algo', 'sub3': 'OS', 'sub4': 'analy'}\n"
     ]
    }
   ],
   "source": [
    "d2[\"sub4\"]=\"analy\"  #adding items\n",
    "print(d2)"
   ]
  },
  {
   "cell_type": "code",
   "execution_count": 12,
   "metadata": {},
   "outputs": [
    {
     "name": "stdout",
     "output_type": "stream",
     "text": [
      "{'name': 'Umeed', 'branch': 'CSE'}\n"
     ]
    }
   ],
   "source": [
    "d1.pop(\"year\") #remove item\n",
    "print(d1)"
   ]
  },
  {
   "cell_type": "code",
   "execution_count": 13,
   "metadata": {},
   "outputs": [
    {
     "name": "stdout",
     "output_type": "stream",
     "text": [
      "{'sem': 'semester', 'sub1': 'M3', 'sub3': 'OS', 'sub4': 'analy'}\n"
     ]
    }
   ],
   "source": [
    "del d2[\"sub2\"] #delete item\n",
    "print(d2)\n"
   ]
  },
  {
   "cell_type": "code",
   "execution_count": 14,
   "metadata": {},
   "outputs": [
    {
     "name": "stdout",
     "output_type": "stream",
     "text": [
      "{}\n",
      "{'sem': 'semester', 'sub1': 'M3', 'sub3': 'OS', 'sub4': 'analy'}\n"
     ]
    }
   ],
   "source": [
    "d3=d2.copy() #copying\n",
    "d2.clear() #ereasing\n",
    "\n",
    "print(d2)\n",
    "print(d3)"
   ]
  }
 ],
 "metadata": {
  "kernelspec": {
   "display_name": "Python 3",
   "language": "python",
   "name": "python3"
  },
  "language_info": {
   "codemirror_mode": {
    "name": "ipython",
    "version": 3
   },
   "file_extension": ".py",
   "mimetype": "text/x-python",
   "name": "python",
   "nbconvert_exporter": "python",
   "pygments_lexer": "ipython3",
   "version": "3.7.3"
  }
 },
 "nbformat": 4,
 "nbformat_minor": 2
}
