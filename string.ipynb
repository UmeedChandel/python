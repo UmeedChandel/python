{
 "cells": [
  {
   "cell_type": "markdown",
   "metadata": {},
   "source": [
    "### Check whether entered Integer/String is Palindrome \n"
   ]
  },
  {
   "cell_type": "code",
   "execution_count": 3,
   "metadata": {},
   "outputs": [
    {
     "name": "stdout",
     "output_type": "stream",
     "text": [
      "Enter no a:123\n",
      "321\n",
      "a is not a pallindrome\n"
     ]
    }
   ],
   "source": [
    "#1\n",
    "a=int(input(\"Enter no a:\")) #123\n",
    "c=0\n",
    "x=a\n",
    "while(a!=0):          #true\n",
    "    b=int(a%10)            #3  #2   #1\n",
    "    c=c*10+b               #3  #32  #321\n",
    "    a=int(a/10)                #12  #1\n",
    "print(c)\n",
    "if(x==c):\n",
    "    print(\"a is pallindrome\")\n",
    "else:\n",
    "    print(\"a is not a pallindrome\")"
   ]
  },
  {
   "cell_type": "code",
   "execution_count": 4,
   "metadata": {},
   "outputs": [
    {
     "name": "stdout",
     "output_type": "stream",
     "text": [
      "Enter the string: maam\n",
      "is a pallindrome\n"
     ]
    }
   ],
   "source": [
    "#2   \n",
    "a=(input(\"Enter the string: \")) # Man\n",
    "a=a.casefold()  #man\n",
    "r=reversed(a)   #nam\n",
    "if list(a)==list(r): #false\n",
    "    print(\"is a pallindrome\")\n",
    "else:\n",
    "    print(\"not a pallindorme\") #print"
   ]
  },
  {
   "cell_type": "markdown",
   "metadata": {},
   "source": [
    "### Check the count of occurance of vowel in entered String\n"
   ]
  },
  {
   "cell_type": "code",
   "execution_count": 5,
   "metadata": {},
   "outputs": [
    {
     "name": "stdout",
     "output_type": "stream",
     "text": [
      "Enter the string: wmeesqa\n",
      "3\n"
     ]
    }
   ],
   "source": [
    "a=(input(\"Enter the string: \")) #umEed\n",
    "b=\"AaEeIiOoUu\"\n",
    "c=0\n",
    "x=len(a)  #5\n",
    "for i in range(0,x): \n",
    "    for j in range(0,10):\n",
    "        if(a[i]==b[j]):\n",
    "            c=c+1          #for u,E,e\n",
    "print(c) #thrice\n",
    "\n"
   ]
  },
  {
   "cell_type": "markdown",
   "metadata": {},
   "source": [
    "### Sort the words in a sentence alphabetically"
   ]
  },
  {
   "cell_type": "code",
   "execution_count": 6,
   "metadata": {},
   "outputs": [
    {
     "name": "stdout",
     "output_type": "stream",
     "text": [
      "Enter a SENTENCE: my name is umeed\n",
      "is\n",
      "my\n",
      "name\n",
      "umeed\n"
     ]
    },
    {
     "data": {
      "text/plain": [
       "'\\nAre\\nWe\\nand\\nlearning\\nsort\\nsplit\\n'"
      ]
     },
     "execution_count": 6,
     "metadata": {},
     "output_type": "execute_result"
    }
   ],
   "source": [
    "\n",
    "\n",
    "my_str=(input(\"Enter a SENTENCE: \"))  #We Are learning split and sort\n",
    "words=my_str.split()   #['We', 'Are', 'learning', 'split', 'and', 'sort']\n",
    "words.sort()\n",
    "for word in words:\n",
    "    print(word) \n",
    "\"\"\"\n",
    "Are\n",
    "We\n",
    "and\n",
    "learning\n",
    "sort\n",
    "split\n",
    "\"\"\""
   ]
  },
  {
   "cell_type": "markdown",
   "metadata": {},
   "source": [
    "### WAP to remove punctuations in the given string"
   ]
  },
  {
   "cell_type": "code",
   "execution_count": 8,
   "metadata": {},
   "outputs": [
    {
     "name": "stdout",
     "output_type": "stream",
     "text": [
      "Enter a SENTENCE with punctuations: heyy !! there.. whatsupp?/\n",
      " heyy  there whatsupp\n"
     ]
    }
   ],
   "source": [
    "punctuation=\".?,&^!/\"   #string with all punctuations\n",
    "my_str=(input(\"Enter a SENTENCE with punctuations: \"))  #Hello.. there ??? Umeed...\n",
    "no_punct=\" \"          #empty string\n",
    "for char1 in my_str:\n",
    "    if char1 not in punctuation:  #checking each character to not to be a punctuation\n",
    "        no_punct=no_punct+char1   #concat empty and character without punctuation string\n",
    "print(no_punct)  # Hello there  Umeed\n"
   ]
  },
  {
   "cell_type": "code",
   "execution_count": null,
   "metadata": {},
   "outputs": [],
   "source": []
  }
 ],
 "metadata": {
  "kernelspec": {
   "display_name": "Python 3",
   "language": "python",
   "name": "python3"
  },
  "language_info": {
   "codemirror_mode": {
    "name": "ipython",
    "version": 3
   },
   "file_extension": ".py",
   "mimetype": "text/x-python",
   "name": "python",
   "nbconvert_exporter": "python",
   "pygments_lexer": "ipython3",
   "version": "3.7.3"
  }
 },
 "nbformat": 4,
 "nbformat_minor": 2
}
